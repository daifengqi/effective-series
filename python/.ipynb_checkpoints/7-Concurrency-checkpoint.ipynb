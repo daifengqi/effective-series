{
 "cells": [
  {
   "cell_type": "code",
   "execution_count": 1,
   "metadata": {},
   "outputs": [
    {
     "name": "stdout",
     "output_type": "stream",
     "text": [
      "Hello from the child!\n",
      "\n"
     ]
    }
   ],
   "source": [
    "import subprocess\n",
    "\n",
    "result = subprocess.run(\n",
    "    ['echo', 'Hello from the child!'],\n",
    "    capture_output=True,\n",
    "    encoding='utf-8')\n",
    "\n",
    "result.check_returncode()  # No exception means clean exit\n",
    "\n",
    "print(result.stdout)"
   ]
  },
  {
   "cell_type": "code",
   "execution_count": 5,
   "metadata": {},
   "outputs": [
    {
     "name": "stdout",
     "output_type": "stream",
     "text": [
      "Working...\n",
      "Working...\n",
      "Working...\n",
      "Working...\n",
      "Working...\n",
      "Working...\n",
      "Working...\n",
      "Working...\n",
      "Working...\n",
      "Working...\n",
      "Working...\n",
      "Working...\n",
      "Working...\n",
      "Working...\n",
      "Working...\n",
      "Exit status 0\n"
     ]
    }
   ],
   "source": [
    "proc = subprocess.Popen(['sleep', '0.001'])\n",
    "\n",
    "while proc.poll() is None:\n",
    "    print('Working...')\n",
    "\n",
    "print('Exit status', proc.poll())"
   ]
  },
  {
   "cell_type": "code",
   "execution_count": 7,
   "metadata": {},
   "outputs": [
    {
     "name": "stdout",
     "output_type": "stream",
     "text": [
      "total 104\n",
      "drwxr-xr-x  11 cescqi  staff   352 Jun 22 18:24 .\n",
      "drwxr-xr-x   8 cescqi  staff   256 Jun 20 21:21 ..\n",
      "drwxr-xr-x  10 cescqi  staff   320 Jun 22 18:12 .ipynb_checkpoints\n",
      "-rw-r--r--   1 cescqi  staff  4998 Jun 20 21:17 1-Thinking.ipynb\n",
      "-rw-r--r--   1 cescqi  staff  2904 Jun 22 11:38 2-ListsDicts.ipynb\n",
      "-rw-r--r--   1 cescqi  staff  2441 Jun 22 12:07 3-Functions.ipynb\n",
      "-rw-r--r--   1 cescqi  staff  8672 Jun 22 12:42 4-Comprehensions.ipynb\n",
      "-rw-r--r--   1 cescqi  staff  8430 Jun 22 18:12 5-Classes.ipynb\n",
      "-rw-r--r--   1 cescqi  staff   966 Jun 22 14:06 6-MetaClasses.ipynb\n",
      "-rw-r--r--   1 cescqi  staff  1846 Jun 22 18:24 7-Concurrency.ipynb\n",
      "-rw-r--r--   1 cescqi  staff   555 Jun 22 18:14 8-Robustness.ipynb\n",
      "\n"
     ]
    }
   ],
   "source": [
    "import subprocess\n",
    "\n",
    "process = subprocess.Popen([\"ls\", \"-la\"], stdout=subprocess.PIPE)\n",
    "output, error = process.communicate()\n",
    "\n",
    "print(output.decode())"
   ]
  },
  {
   "cell_type": "code",
   "execution_count": 8,
   "metadata": {},
   "outputs": [],
   "source": [
    "#  Use the timeout parameter of the communicate method to avoid dead- locks and hanging child processes."
   ]
  },
  {
   "cell_type": "markdown",
   "metadata": {},
   "source": [
    "## GIL & Multithreading"
   ]
  },
  {
   "cell_type": "code",
   "execution_count": 10,
   "metadata": {},
   "outputs": [
    {
     "name": "stdout",
     "output_type": "stream",
     "text": [
      "Took 0.526 seconds\n"
     ]
    }
   ],
   "source": [
    "import select\n",
    "import socket\n",
    "import time\n",
    "\n",
    "def slow_systemcall():\n",
    "    select.select([socket.socket()], [], [], 0.1)\n",
    "    \n",
    "start = time.time()\n",
    "for _ in range(5):\n",
    "    slow_systemcall()\n",
    "end = time.time()\n",
    "delta = end - start\n",
    "\n",
    "print(f'Took {delta:.3f} seconds')"
   ]
  },
  {
   "cell_type": "code",
   "execution_count": 16,
   "metadata": {},
   "outputs": [],
   "source": [
    "# https://superfastpython.com/multithreaded-file-loading\n",
    "# https://stackoverflow.com/questions/20776189/concurrent-futures-vs-multiprocessing-in-python-3"
   ]
  },
  {
   "cell_type": "code",
   "execution_count": 15,
   "metadata": {},
   "outputs": [],
   "source": [
    "# https://superfastpython.com/multithreaded-file-loading\n",
    "# SuperFastPython.com\n",
    "# load many files concurrently with processes and threads in batch\n",
    "from os import listdir\n",
    "from os.path import join\n",
    "from concurrent.futures import ProcessPoolExecutor\n",
    "from concurrent.futures import ThreadPoolExecutor\n",
    "from concurrent.futures import as_completed\n",
    " \n",
    "# load a file and return the contents\n",
    "def load_file(filepath):\n",
    "    # open the file\n",
    "    with open(filepath, 'r') as handle:\n",
    "        # return the contents\n",
    "        handle.read()\n",
    "\n",
    "# return the contents of many files\n",
    "def load_files(filepaths):\n",
    "    # create a thread pool\n",
    "    with ThreadPoolExecutor(len(filepaths)) as exe:\n",
    "        # load files\n",
    "        futures = [exe.submit(load_file, name) for name in filepaths]\n",
    "        # collect data\n",
    "        data_list = [future.result() for future in futures]\n",
    "        # return data and file paths\n",
    "        return (data_list, filepaths)\n",
    "\n",
    "    \n",
    "# load all files in a directory into memory\n",
    "def main(path='tmp'):\n",
    "    # prepare all of the paths\n",
    "    paths = [join(path, filepath) for filepath in listdir(path)]\n",
    "    # determine chunksize\n",
    "    n_workers = 8\n",
    "    chunksize = round(len(paths) / n_workers)\n",
    "    # create the process pool\n",
    "    with ProcessPoolExecutor(n_workers) as executor:\n",
    "        futures = list()\n",
    "        # split the load operations into chunks\n",
    "        for i in range(0, len(paths), chunksize):\n",
    "            # select a chunk of filenames\n",
    "            filepaths = paths[i:(i + chunksize)]\n",
    "            # submit the task\n",
    "            future = executor.submit(load_files, filepaths)\n",
    "            futures.append(future)\n",
    "        # process all results\n",
    "        for future in as_completed(futures):\n",
    "            # open the file and load the data\n",
    "            _, filepaths = future.result()\n",
    "            for filepath in filepaths:\n",
    "                # report progress\n",
    "                print(f'.loaded {filepath}')\n",
    "    print('Done')\n",
    "\n",
    "    \n",
    "# entry poimt\n",
    "if __name__ == '__main__':\n",
    "    pass\n",
    "#     main()"
   ]
  },
  {
   "cell_type": "code",
   "execution_count": 19,
   "metadata": {},
   "outputs": [
    {
     "name": "stdout",
     "output_type": "stream",
     "text": [
      "Counter should be 500000, got 247712\n"
     ]
    }
   ],
   "source": [
    "from threading import Thread\n",
    "\n",
    "class Counter:\n",
    "    def __init__(self):\n",
    "        self.count = 0\n",
    "    def increment(self, offset):\n",
    "        self.count += offset\n",
    "\n",
    "def worker(sensor_index, how_many, counter):\n",
    "    for _ in range(how_many):\n",
    "        counter.increment(1)\n",
    "        \n",
    "how_many = 10**5\n",
    "counter = Counter()\n",
    "threads = []\n",
    "\n",
    "for i in range(5):\n",
    "    thread = Thread(target=worker,\n",
    "                    args=(i, how_many, counter))\n",
    "    threads.append(thread)\n",
    "    thread.start()\n",
    "for thread in threads:\n",
    "    thread.join()\n",
    "    \n",
    "expected = how_many * 5\n",
    "found = counter.count\n",
    "\n",
    "print(f'Counter should be {expected}, got {found}')"
   ]
  },
  {
   "cell_type": "code",
   "execution_count": 21,
   "metadata": {},
   "outputs": [
    {
     "name": "stdout",
     "output_type": "stream",
     "text": [
      "Counter should be 500000, got 500000\n"
     ]
    }
   ],
   "source": [
    "from threading import Lock\n",
    "\n",
    "class LockingCounter:\n",
    "    def __init__(self):\n",
    "        self.lock = Lock()\n",
    "        self.count = 0\n",
    "    def increment(self, offset):\n",
    "        # Key difference here using lock\n",
    "        with self.lock:\n",
    "            self.count += offset\n",
    "            \n",
    "counter = LockingCounter()\n",
    "for i in range(5):\n",
    "    thread = Thread(target=worker,\n",
    "                    args=(i, how_many, counter))\n",
    "    threads.append(thread)\n",
    "    thread.start()\n",
    "for thread in threads:\n",
    "    thread.join()\n",
    "expected = how_many * 5\n",
    "found = counter.count\n",
    "print(f'Counter should be {expected}, got {found}')"
   ]
  }
 ],
 "metadata": {
  "kernelspec": {
   "display_name": "Python 3",
   "language": "python",
   "name": "python3"
  },
  "language_info": {
   "codemirror_mode": {
    "name": "ipython",
    "version": 3
   },
   "file_extension": ".py",
   "mimetype": "text/x-python",
   "name": "python",
   "nbconvert_exporter": "python",
   "pygments_lexer": "ipython3",
   "version": "3.9.6"
  }
 },
 "nbformat": 4,
 "nbformat_minor": 4
}
