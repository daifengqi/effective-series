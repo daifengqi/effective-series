{
 "cells": [
  {
   "cell_type": "code",
   "execution_count": 3,
   "metadata": {},
   "outputs": [
    {
     "data": {
      "text/plain": [
       "'Nandini'"
      ]
     },
     "execution_count": 3,
     "metadata": {},
     "output_type": "execute_result"
    }
   ],
   "source": [
    "from collections import namedtuple\n",
    " \n",
    "# Declaring namedtuple()\n",
    "Student = namedtuple('Student', ['name', 'age', 'DOB'])\n",
    " \n",
    "# Adding values\n",
    "s = Student('Nandini', '19', '2541997')\n",
    " \n",
    "s.name"
   ]
  },
  {
   "cell_type": "code",
   "execution_count": 7,
   "metadata": {},
   "outputs": [
    {
     "data": {
      "text/plain": [
       "('Class-Level-Variable-without-self', 1)"
      ]
     },
     "execution_count": 7,
     "metadata": {},
     "output_type": "execute_result"
    }
   ],
   "source": [
    "class C:\n",
    "    @classmethod\n",
    "    def f(cls, arg1):\n",
    "        return 'Class-Level-Variable-without-self', arg1\n",
    "    \n",
    "C.f(1)"
   ]
  },
  {
   "cell_type": "markdown",
   "metadata": {},
   "source": [
    "## Mixin"
   ]
  },
  {
   "cell_type": "code",
   "execution_count": 27,
   "metadata": {},
   "outputs": [],
   "source": [
    "class Employee:\n",
    "    def __init__(self, name, position, experience):\n",
    "        self.name = name\n",
    "        self.position = position\n",
    "        self.experience = experience\n",
    "\n",
    "    def calculate_salary(self):\n",
    "        # calculate base salary\n",
    "        base_salary = 50000\n",
    "        print('base_salary:', base_salary)\n",
    "\n",
    "        # add bonus based on position\n",
    "        if self.position == \"Manager\":\n",
    "            bonus = 10000\n",
    "            print('Manager +', bonus)\n",
    "        elif self.position == \"Engineer\":\n",
    "            bonus = 5000\n",
    "        else:\n",
    "            bonus = 0\n",
    "\n",
    "        # add bonus based on experience\n",
    "        bonus += self.experience * 1000\n",
    "        print('experience +', self.experience * 1000)\n",
    "\n",
    "        # calculate total salary\n",
    "        total_salary = base_salary + bonus\n",
    "\n",
    "        return total_salary\n",
    "\n",
    "\n",
    "class ManagerMixin:\n",
    "    def calculate_salary(self):\n",
    "        salary = super().calculate_salary()\n",
    "        salary += 5000  # add manager bonus\n",
    "        print('ManagerMixin +', 5000)\n",
    "        return salary\n",
    "\n",
    "\n",
    "class EngineerMixin:\n",
    "    def calculate_salary(self):\n",
    "        salary = super().calculate_salary()\n",
    "        salary += 2000  # add engineer bonus\n",
    "        return salary\n",
    "\n",
    "\n",
    "class SeniorExperienceMixin:\n",
    "    def calculate_salary(self):\n",
    "        salary = super().calculate_salary()\n",
    "        salary += 3000  # add senior experience bonus\n",
    "        print('SeniorExperienceMixin +', 3000)\n",
    "        return salary\n",
    "\n",
    "\n",
    "class JuniorExperienceMixin:\n",
    "    def calculate_salary(self):\n",
    "        salary = super().calculate_salary()\n",
    "        salary += 1000  # add junior experience bonus\n",
    "        return salary\n",
    "\n",
    "\n",
    "# combine the employee class with the appropriate mix-in classes\n",
    "class Manager(Employee, ManagerMixin, SeniorExperienceMixin):\n",
    "    \n",
    "    \n",
    "    def __init__(self, name):\n",
    "        super().__init__(name, 'Manager', 3)\n",
    "\n",
    "\n",
    "class SeniorEngineer(Employee, EngineerMixin, SeniorExperienceMixin):\n",
    "    pass\n",
    "\n",
    "\n",
    "class JuniorEngineer(Employee, EngineerMixin, JuniorExperienceMixin):\n",
    "    pass"
   ]
  },
  {
   "cell_type": "code",
   "execution_count": 28,
   "metadata": {},
   "outputs": [
    {
     "name": "stdout",
     "output_type": "stream",
     "text": [
      "base_salary: 50000\n",
      "Manager + 10000\n",
      "experience + 3000\n"
     ]
    },
    {
     "data": {
      "text/plain": [
       "63000"
      ]
     },
     "execution_count": 28,
     "metadata": {},
     "output_type": "execute_result"
    }
   ],
   "source": [
    "m = Manager('Alex')\n",
    "\n",
    "m.calculate_salary()"
   ]
  },
  {
   "cell_type": "code",
   "execution_count": 29,
   "metadata": {},
   "outputs": [],
   "source": [
    "from collections.abc import MutableSequence\n",
    "\n",
    "class Deck(MutableSequence):\n",
    "    def __init__(self):\n",
    "        self.cards = []\n",
    "\n",
    "    def add_card(self, card):\n",
    "        self.cards.append(card)\n",
    "\n",
    "    def remove_card(self):\n",
    "        return self.cards.pop()\n",
    "\n",
    "    def shuffle(self):\n",
    "        random.shuffle(self.cards)\n",
    "\n",
    "    def __len__(self):\n",
    "        return len(self.cards)\n",
    "\n",
    "    def __getitem__(self, position):\n",
    "        return self.cards[position]\n",
    "\n",
    "    def __setitem__(self, index, value):\n",
    "        self.cards[index] = value\n",
    "\n",
    "    def __delitem__(self, index):\n",
    "        del self.cards[index]\n",
    "\n",
    "    def insert(self, index, value):\n",
    "        self.cards.insert(index, value)"
   ]
  },
  {
   "cell_type": "code",
   "execution_count": 30,
   "metadata": {},
   "outputs": [
    {
     "name": "stdout",
     "output_type": "stream",
     "text": [
      "Before: {'exists': 5}\n",
      "foo:    Value for foo\n",
      "After:  {'exists': 5, 'foo': 'Value for foo'}\n"
     ]
    }
   ],
   "source": [
    "class LazyRecord:\n",
    "    \n",
    "    def __init__(self):\n",
    "        self.exists = 5\n",
    "        \n",
    "    def __getattr__(self, name):\n",
    "        value = f'Value for {name}'\n",
    "        setattr(self, name, value)\n",
    "        return value\n",
    "\n",
    "\n",
    "\n",
    "data = LazyRecord()\n",
    "print('Before:', data.__dict__)\n",
    "print('foo:   ', data.foo)\n",
    "print('After: ', data.__dict__)"
   ]
  },
  {
   "cell_type": "code",
   "execution_count": 31,
   "metadata": {},
   "outputs": [
    {
     "name": "stdout",
     "output_type": "stream",
     "text": [
      "* Called __getattribute__('exists')\n",
      "* Found 'exists', returning 5\n",
      "exists:      5\n",
      "* Called __getattribute__('foo')\n",
      "* Setting 'foo' to 'Value for foo'\n",
      "First foo:   Value for foo\n",
      "* Called __getattribute__('foo')\n",
      "* Found 'foo', returning 'Value for foo'\n",
      "Second foo:  Value for foo\n"
     ]
    }
   ],
   "source": [
    "class ValidatingRecord:\n",
    "    def __init__(self):\n",
    "        self.exists = 5\n",
    "    def __getattribute__(self, name):\n",
    "        print(f'* Called __getattribute__({name!r})')\n",
    "        try:\n",
    "            value = super().__getattribute__(name)\n",
    "            print(f'* Found {name!r}, returning {value!r}')\n",
    "            return value\n",
    "        except AttributeError:\n",
    "            value = f'Value for {name}'\n",
    "            print(f'* Setting {name!r} to {value!r}')\n",
    "            setattr(self, name, value)\n",
    "            return value\n",
    "        \n",
    "data = ValidatingRecord()\n",
    "print('exists:     ', data.exists)\n",
    "print('First foo:  ', data.foo)\n",
    "print('Second foo: ', data.foo)"
   ]
  },
  {
   "cell_type": "code",
   "execution_count": 32,
   "metadata": {},
   "outputs": [],
   "source": [
    "#  Understand that __getattr__ only gets called when accessing a missing attribute,\n",
    "#     whereas __getattribute__ gets called every time any attribute is accessed."
   ]
  },
  {
   "cell_type": "code",
   "execution_count": null,
   "metadata": {},
   "outputs": [],
   "source": []
  }
 ],
 "metadata": {
  "kernelspec": {
   "display_name": "Python 3",
   "language": "python",
   "name": "python3"
  },
  "language_info": {
   "codemirror_mode": {
    "name": "ipython",
    "version": 3
   },
   "file_extension": ".py",
   "mimetype": "text/x-python",
   "name": "python",
   "nbconvert_exporter": "python",
   "pygments_lexer": "ipython3",
   "version": "3.9.6"
  }
 },
 "nbformat": 4,
 "nbformat_minor": 4
}
